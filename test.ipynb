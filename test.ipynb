{
 "cells": [
  {
   "cell_type": "code",
   "execution_count": null,
   "metadata": {},
   "outputs": [
    {
     "name": "stdout",
     "output_type": "stream",
     "text": [
      "Collecting pydantic\n",
      "  Using cached pydantic-2.9.2-py3-none-any.whl.metadata (149 kB)\n",
      "Collecting annotated-types>=0.6.0 (from pydantic)\n",
      "  Using cached annotated_types-0.7.0-py3-none-any.whl.metadata (15 kB)\n",
      "Collecting pydantic-core==2.23.4 (from pydantic)\n",
      "  Downloading pydantic_core-2.23.4-cp313-none-win_amd64.whl.metadata (6.7 kB)\n",
      "Requirement already satisfied: typing-extensions>=4.12.2 in c:\\users\\varsha gupta\\.conda\\envs\\pydantic\\lib\\site-packages (from pydantic) (4.12.2)\n",
      "Using cached pydantic-2.9.2-py3-none-any.whl (434 kB)\n",
      "Downloading pydantic_core-2.23.4-cp313-none-win_amd64.whl (1.9 MB)\n",
      "   ---------------------------------------- 0.0/1.9 MB ? eta -:--:--\n",
      "   -------------------------------- ------- 1.6/1.9 MB 7.1 MB/s eta 0:00:01\n",
      "   ---------------------------------------- 1.9/1.9 MB 5.5 MB/s eta 0:00:00\n",
      "Using cached annotated_types-0.7.0-py3-none-any.whl (13 kB)\n",
      "Installing collected packages: pydantic-core, annotated-types, pydantic\n",
      "Successfully installed annotated-types-0.7.0 pydantic-2.9.2 pydantic-core-2.23.4\n"
     ]
    }
   ],
   "source": [
    "%python -m pip install pydantic"
   ]
  },
  {
   "cell_type": "code",
   "execution_count": 8,
   "metadata": {},
   "outputs": [],
   "source": [
    "from pydantic import BaseModel\n",
    "\n",
    "class User(BaseModel):\n",
    "    name:str = 'john'\n",
    "    id:int"
   ]
  },
  {
   "cell_type": "code",
   "execution_count": 9,
   "metadata": {},
   "outputs": [
    {
     "name": "stdout",
     "output_type": "stream",
     "text": [
      "name='john' id=123\n"
     ]
    }
   ],
   "source": [
    "user = User(id = \"123\")\n",
    "print(user)"
   ]
  },
  {
   "cell_type": "code",
   "execution_count": 10,
   "metadata": {},
   "outputs": [
    {
     "name": "stdout",
     "output_type": "stream",
     "text": [
      "{'id'}\n",
      "{'name', 'id'}\n"
     ]
    }
   ],
   "source": [
    "print(user.model_fields_set)\n",
    "user = User(name = \"Poky\", id = \"789\")\n",
    "print(user.model_fields_set)"
   ]
  },
  {
   "cell_type": "code",
   "execution_count": 11,
   "metadata": {},
   "outputs": [
    {
     "name": "stdout",
     "output_type": "stream",
     "text": [
      "{'name': 'Poky', 'id': 789}\n",
      "{\"name\":\"Poky\",\"id\":789}\n",
      "{'properties': {'name': {'default': 'john', 'title': 'Name', 'type': 'string'}, 'id': {'title': 'Id', 'type': 'integer'}}, 'required': ['id'], 'title': 'User', 'type': 'object'}\n"
     ]
    }
   ],
   "source": [
    "print(user.model_dump())\n",
    "print(user.model_dump_json())\n",
    "print(user.model_json_schema())"
   ]
  },
  {
   "cell_type": "markdown",
   "metadata": {},
   "source": [
    "Nested Models"
   ]
  },
  {
   "cell_type": "code",
   "execution_count": 13,
   "metadata": {},
   "outputs": [
    {
     "name": "stdout",
     "output_type": "stream",
     "text": [
      "name='social' location='123, Kormangala' foods=[Food(name='Cheese Pizza', price=12.34, ingredients=['cheese', 'Flour']), Food(name='Burger', price=8.9, ingredients=None)]\n",
      "{'name': 'social', 'location': '123, Kormangala', 'foods': [{'name': 'Cheese Pizza', 'price': 12.34, 'ingredients': ['cheese', 'Flour']}, {'name': 'Burger', 'price': 8.9, 'ingredients': None}]}\n"
     ]
    }
   ],
   "source": [
    "from typing import List, Optional\n",
    "from pydantic import BaseModel\n",
    "\n",
    "class Food(BaseModel):\n",
    "    name : str\n",
    "    price : float\n",
    "    ingredients : Optional [List[str]] = None\n",
    "\n",
    "class Restaurant(BaseModel):\n",
    "    name : str\n",
    "    location : str\n",
    "    foods : List[Food]\n",
    "\n",
    "\n",
    "res_instance  = Restaurant(\n",
    "    name = \"social\",\n",
    "    location = \"123, Kormangala\",\n",
    "    foods=[\n",
    "        {\"name\" : \"Cheese Pizza\", \"price\":12.34, \"ingredients\":[\"cheese\",\"Flour\"]},\n",
    "        {\"name\":\"Burger\",\"price\":8.9}\n",
    "    ]\n",
    ")   \n",
    "print(res_instance)\n",
    "print(res_instance.model_dump())\n"
   ]
  },
  {
   "cell_type": "code",
   "execution_count": 16,
   "metadata": {},
   "outputs": [
    {
     "name": "stdout",
     "output_type": "stream",
     "text": [
      "Requirement already satisfied: pydantic[email] in c:\\users\\varsha gupta\\.conda\\envs\\pydantic\\lib\\site-packages (2.9.2)\n",
      "Requirement already satisfied: annotated-types>=0.6.0 in c:\\users\\varsha gupta\\.conda\\envs\\pydantic\\lib\\site-packages (from pydantic[email]) (0.7.0)\n",
      "Requirement already satisfied: pydantic-core==2.23.4 in c:\\users\\varsha gupta\\.conda\\envs\\pydantic\\lib\\site-packages (from pydantic[email]) (2.23.4)\n",
      "Requirement already satisfied: typing-extensions>=4.12.2 in c:\\users\\varsha gupta\\.conda\\envs\\pydantic\\lib\\site-packages (from pydantic[email]) (4.12.2)\n",
      "Collecting email-validator>=2.0.0 (from pydantic[email])\n",
      "  Downloading email_validator-2.2.0-py3-none-any.whl.metadata (25 kB)\n",
      "Collecting dnspython>=2.0.0 (from email-validator>=2.0.0->pydantic[email])\n",
      "  Downloading dnspython-2.7.0-py3-none-any.whl.metadata (5.8 kB)\n",
      "Collecting idna>=2.0.0 (from email-validator>=2.0.0->pydantic[email])\n",
      "  Using cached idna-3.10-py3-none-any.whl.metadata (10 kB)\n",
      "Downloading email_validator-2.2.0-py3-none-any.whl (33 kB)\n",
      "Downloading dnspython-2.7.0-py3-none-any.whl (313 kB)\n",
      "Using cached idna-3.10-py3-none-any.whl (70 kB)\n",
      "Installing collected packages: idna, dnspython, email-validator\n",
      "Successfully installed dnspython-2.7.0 email-validator-2.2.0 idna-3.10\n",
      "Note: you may need to restart the kernel to use updated packages.\n"
     ]
    }
   ],
   "source": [
    "%pip install pydantic[email]"
   ]
  },
  {
   "cell_type": "code",
   "execution_count": 4,
   "metadata": {},
   "outputs": [
    {
     "name": "stdout",
     "output_type": "stream",
     "text": [
      "name='Social' owner=Owner(name='John', email='abc@gmail.com') address=Address(street='123,Paris', city='London', state='Washington', zip_code='12344') employees=[Employee(name='Rita', position='HR', email='rita@google.com'), Employee(name='sita', position='chef', email='sita@google.com')] number_of_seats=50 delivery=True website=Url('http://social.com/')\n",
      "<bound method BaseModel.model_dump of Restaurant(name='Social', owner=Owner(name='John', email='abc@gmail.com'), address=Address(street='123,Paris', city='London', state='Washington', zip_code='12344'), employees=[Employee(name='Rita', position='HR', email='rita@google.com'), Employee(name='sita', position='chef', email='sita@google.com')], number_of_seats=50, delivery=True, website=Url('http://social.com/'))>\n"
     ]
    }
   ],
   "source": [
    "from typing import List\n",
    "from pydantic import BaseModel, EmailStr, PositiveInt,conlist, Field, HttpUrl\n",
    "\n",
    "class Address(BaseModel):\n",
    "    street : str\n",
    "    city : str\n",
    "    state : str\n",
    "    zip_code : str\n",
    "\n",
    "class Employee(BaseModel):\n",
    "    name : str\n",
    "    position : str\n",
    "    email : EmailStr\n",
    "\n",
    "class Owner(BaseModel):\n",
    "    name : str\n",
    "    email : EmailStr\n",
    "\n",
    "class Restaurant(BaseModel):\n",
    "    name : str = Field(..., pattern= r\"^[a-zA-Z0-9-' ]+$\")\n",
    "    owner : Owner\n",
    "    address : Address\n",
    "    employees : conlist(Employee, min_length=2)\n",
    "    number_of_seats: PositiveInt\n",
    "    delivery: bool\n",
    "    website : HttpUrl\n",
    "\n",
    "\n",
    "# creating an instance of the restaurant class\n",
    "res_instance = Restaurant(\n",
    "    name = \"Social\",\n",
    "    owner={\n",
    "        \"name\" :\"John\",\n",
    "        \"email\" : \"abc@gmail.com\"\n",
    "    },\n",
    "    address={\n",
    "        \"street\":\"123,Paris\",\n",
    "        \"city\":\"London\",\n",
    "        \"state\":\"Washington\",\n",
    "        \"zip_code\":\"12344\"\n",
    "    },\n",
    "    employees=[\n",
    "        {\n",
    "            \"name\":\"Rita\",\n",
    "            \"position\":\"HR\",\n",
    "            \"email\" : \"rita@google.com\"\n",
    "        },\n",
    "        {\n",
    "            \"name\":\"sita\",\n",
    "            \"position\":\"chef\",\n",
    "            \"email\" : \"sita@google.com\"\n",
    "        }\n",
    "    ],\n",
    "    number_of_seats=50,\n",
    "    delivery=True,\n",
    "    website=\"http://social.com\"\n",
    ")    \n",
    "#  printing instance\n",
    "print(res_instance)\n",
    "print(res_instance.model_dump)\n",
    "\n"
   ]
  },
  {
   "cell_type": "code",
   "execution_count": 9,
   "metadata": {},
   "outputs": [
    {
     "name": "stdout",
     "output_type": "stream",
     "text": [
      "student=Student(name='varsha', id=123, fee=1200.0) teacher=Teacher(name='Supriya', Class=False) no_of_sections=4\n",
      "<bound method BaseModel.model_dump of Class(student=Student(name='varsha', id=123, fee=1200.0), teacher=Teacher(name='Supriya', Class=False), no_of_sections=4)>\n"
     ]
    }
   ],
   "source": [
    "from typing import List\n",
    "from pydantic import BaseModel, conlist, HttpUrl\n",
    "\n",
    "class Student(BaseModel):\n",
    "    name : str\n",
    "    id : int\n",
    "    fee : float\n",
    "\n",
    "class Teacher(BaseModel):\n",
    "    name : str\n",
    "    Class : bool\n",
    "\n",
    "class Class(BaseModel):\n",
    "    student : Student\n",
    "    teacher : Teacher\n",
    "    no_of_sections : int\n",
    "\n",
    "# creaating an instance of class\n",
    "class_insatnce = Class(\n",
    "    student = {\n",
    "        \"name\":\"varsha\",\n",
    "        \"id\" : 123,\n",
    "        \"fee\": 1200\n",
    "    },\n",
    "    teacher = {\n",
    "        \"name\":\"Supriya\",\n",
    "        \"Class\": False\n",
    "    },\n",
    "    no_of_sections = 4\n",
    ")         \n",
    "print(class_insatnce)\n",
    "print(class_insatnce.model_dump)"
   ]
  },
  {
   "cell_type": "markdown",
   "metadata": {},
   "source": [
    "Field Validation"
   ]
  },
  {
   "cell_type": "code",
   "execution_count": 16,
   "metadata": {},
   "outputs": [
    {
     "name": "stdout",
     "output_type": "stream",
     "text": [
      "name='fabi rock' email='abc@gmail.com'\n"
     ]
    }
   ],
   "source": [
    "from pydantic import BaseModel, EmailStr, field_validator\n",
    "\n",
    "class Owner(BaseModel):\n",
    "    name : str\n",
    "    email : EmailStr\n",
    "\n",
    "    @field_validator('name')\n",
    "    @classmethod\n",
    "    def name_must_contain_space(cls, v: str) -> str:\n",
    "        if ' ' not in v:\n",
    "            raise ValueError('owner name must contain a space')\n",
    "        # return v.title()\n",
    "        # return v.upper()\n",
    "        return v.lower()\n",
    "    \n",
    "try:\n",
    "    Owner_instance = Owner(name = \"faBI roCk\", email=\"abc@gmail.com\")\n",
    "    # Owner_instance = Owner(name = \"fabi rock\", email=\"abc@gmail.com\")\n",
    "\n",
    "except ValueError as e:\n",
    "    print(e)  \n",
    "\n",
    "print(Owner_instance)          "
   ]
  },
  {
   "cell_type": "markdown",
   "metadata": {},
   "source": [
    "Model validators - allow to create a model before and after field validation"
   ]
  },
  {
   "cell_type": "code",
   "execution_count": 24,
   "metadata": {},
   "outputs": [
    {
     "name": "stdout",
     "output_type": "stream",
     "text": [
      "name='John Doee' email='ab@em.com'\n",
      "1 validation error for Owner\n",
      "  Value error, password should not be included [type=value_error, input_value={'name': 'John Doee', 'em...', 'password': '12pass'}, input_type=dict]\n",
      "    For further information visit https://errors.pydantic.dev/2.9/v/value_error\n"
     ]
    }
   ],
   "source": [
    "from typing import Any\n",
    "from pydantic import BaseModel, EmailStr, ValidationError,model_validator\n",
    "\n",
    "class Owner(BaseModel):\n",
    "    name : str\n",
    "    email : EmailStr\n",
    "\n",
    "    @model_validator(mode = 'before')\n",
    "    @classmethod\n",
    "    def check_sensitive_info_omitted(cls, data: Any) -> Any:\n",
    "        if isinstance(data, dict):\n",
    "            if 'password' in data:\n",
    "                raise ValueError('password should not be included')\n",
    "            if 'card_number' in data:\n",
    "                raise ValueError('card_number should not be included')\n",
    "\n",
    "        return data\n",
    "    @model_validator(mode = 'after')\n",
    "    def check_name_contains_space(self) -> 'Owner':\n",
    "        if ' ' not in self.name:\n",
    "            raise ValueError('Owner name must contain a space')\n",
    "        return self\n",
    "    \n",
    "print(Owner(name=\"John Doee\", email=\"ab@em.com\"))\n",
    "\n",
    "try:\n",
    "    # Owner(name=\"John Doee\", email=\"ab@em.com\")\n",
    "     Owner(name=\"John Doee\", email=\"ab@em.com\", password = \"12pass\")\n",
    "except ValueError as e:\n",
    "    print(e)   \n"
   ]
  },
  {
   "cell_type": "markdown",
   "metadata": {},
   "source": [
    "Fields - Used to customize and ass metadata to fields of models"
   ]
  },
  {
   "cell_type": "code",
   "execution_count": 25,
   "metadata": {},
   "outputs": [
    {
     "name": "stdout",
     "output_type": "stream",
     "text": [
      "name='john doe'\n"
     ]
    }
   ],
   "source": [
    "from pydantic import BaseModel, Field\n",
    "\n",
    "class User(BaseModel):\n",
    "    name : str = Field(default='john doe')\n",
    "\n",
    "user = User()\n",
    "print(user)"
   ]
  },
  {
   "cell_type": "markdown",
   "metadata": {},
   "source": [
    "Creating dynamic id using uuid4"
   ]
  },
  {
   "cell_type": "code",
   "execution_count": 27,
   "metadata": {},
   "outputs": [
    {
     "name": "stdout",
     "output_type": "stream",
     "text": [
      "id='939c7f20e64e46d3bedb1d59b9472bac'\n"
     ]
    }
   ],
   "source": [
    "from pydantic import BaseModel, Field\n",
    "from uuid import uuid4\n",
    "\n",
    "class User(BaseModel):\n",
    "    id : int = Field(default_factory=lambda: uuid4().hex)\n",
    "\n",
    "user = User()\n",
    "print(user)"
   ]
  },
  {
   "cell_type": "markdown",
   "metadata": {},
   "source": [
    "Field aliases - For validation and serialization, alias can be used\n",
    "\n",
    "There are three ways to define an alias:\n",
    "> Field(..., alias = 'foo')\n",
    "> Field(..., validation_alias = 'foo')\n",
    "> Filed(..., serialization_alias= 'foo')"
   ]
  },
  {
   "cell_type": "code",
   "execution_count": null,
   "metadata": {},
   "outputs": [
    {
     "name": "stdout",
     "output_type": "stream",
     "text": [
      "name='jack'\n",
      "{'name': 'jack'}\n",
      "{'username': 'jack'}\n"
     ]
    }
   ],
   "source": [
    "from pydantic import BaseModel, Field\n",
    "\n",
    "class User(BaseModel):\n",
    "    name : str = Field(..., alias = 'username')\n",
    "\n",
    "user = User(username='jack')\n",
    "print(user)\n",
    "# print(user.model_dump(by_alias=False))\n",
    "print(user.model_dump(by_alias=True))\n",
    "\n",
    "\n"
   ]
  },
  {
   "cell_type": "code",
   "execution_count": 38,
   "metadata": {},
   "outputs": [
    {
     "name": "stdout",
     "output_type": "stream",
     "text": [
      "{'username': 'rgfefrer', 'email': 'abd@gn.com', 'age': 30, 'height': 8.9, 'is_active': True}\n"
     ]
    }
   ],
   "source": [
    "from typing import List\n",
    "from pydantic import BaseModel, Field, EmailStr\n",
    "\n",
    "class User(BaseModel):\n",
    "    username : str = Field(..., min_length=3, max_length=10)\n",
    "    email: EmailStr = Field(...)\n",
    "    age: int = Field(..., gt =0, le=120)\n",
    "    height: float = Field(..., gt=0.0)\n",
    "    is_active: bool = Field(True)\n",
    "\n",
    "user_instance = User(\n",
    "    username = \"rgfefrer\",\n",
    "    email = \"abd@gn.com\",\n",
    "    age = 30,\n",
    "    height= 8.9,\n",
    "    # is_active=False\n",
    ")    \n",
    "print(user_instance.model_dump())"
   ]
  },
  {
   "cell_type": "markdown",
   "metadata": {},
   "source": [
    "Computed Fields"
   ]
  },
  {
   "cell_type": "code",
   "execution_count": null,
   "metadata": {},
   "outputs": [
    {
     "name": "stdout",
     "output_type": "stream",
     "text": [
      "1 validation error for Person\n",
      "birth_year\n",
      "  Value error, Person must be 18 years or older [type=value_error, input_value=2018, input_type=int]\n",
      "    For further information visit https://errors.pydantic.dev/2.9/v/value_error\n"
     ]
    }
   ],
   "source": [
    "from pydantic import BaseModel, ValidationError, field_validator\n",
    "from datetime import datetime\n",
    "\n",
    "class Person(BaseModel):\n",
    "    name : str\n",
    "    birth_year : int\n",
    "\n",
    "    @property\n",
    "    def age(self) -> int:\n",
    "        current_year = datetime.now().year\n",
    "        return current_year\n",
    "    \n",
    "    @field_validator('birth_year')\n",
    "    @classmethod\n",
    "    def validate(cls, v:int) -> int:\n",
    "        current_year = datetime.now().year\n",
    "        if current_year - v < 18:\n",
    "            raise ValueError(\"Person must be 18 years or older\")\n",
    "        return v\n",
    "try:\n",
    "    # print(Person(name = \"abhi\",birth_year = 2000))\n",
    "    print(Person(name = \"abhi\",birth_year = 2018))\n",
    "except ValidationError as e:\n",
    "    print(e)    \n",
    "\n"
   ]
  },
  {
   "cell_type": "markdown",
   "metadata": {},
   "source": [
    "Strict Mode "
   ]
  },
  {
   "cell_type": "code",
   "execution_count": 44,
   "metadata": {},
   "outputs": [
    {
     "name": "stdout",
     "output_type": "stream",
     "text": [
      "id=42 name='john_doe'\n"
     ]
    }
   ],
   "source": [
    "from pydantic import BaseModel, ValidationError # type: ignore\n",
    "\n",
    "class User(BaseModel):\n",
    "    id : int\n",
    "    name : str\n",
    "\n",
    "print(User.model_validate({'id':'42','name':'john_doe'}))    \n",
    "    "
   ]
  },
  {
   "cell_type": "code",
   "execution_count": 46,
   "metadata": {},
   "outputs": [
    {
     "name": "stdout",
     "output_type": "stream",
     "text": [
      "1 validation error for User\n",
      "id\n",
      "  Input should be a valid integer [type=int_type, input_value='42', input_type=str]\n",
      "    For further information visit https://errors.pydantic.dev/2.9/v/int_type\n"
     ]
    }
   ],
   "source": [
    "try:\n",
    "    User.model_validate({'id':'42', 'name':'honk_tom'}, strict= True)\n",
    "except ValidationError as exc:\n",
    "    print(exc)    "
   ]
  },
  {
   "cell_type": "markdown",
   "metadata": {},
   "source": [
    "Settings Management"
   ]
  },
  {
   "cell_type": "code",
   "execution_count": 47,
   "metadata": {},
   "outputs": [
    {
     "name": "stdout",
     "output_type": "stream",
     "text": [
      "Collecting pydantic-settings\n",
      "  Downloading pydantic_settings-2.6.1-py3-none-any.whl.metadata (3.5 kB)\n",
      "Requirement already satisfied: pydantic>=2.7.0 in c:\\users\\varsha gupta\\.conda\\envs\\pydantic\\lib\\site-packages (from pydantic-settings) (2.9.2)\n",
      "Collecting python-dotenv>=0.21.0 (from pydantic-settings)\n",
      "  Using cached python_dotenv-1.0.1-py3-none-any.whl.metadata (23 kB)\n",
      "Requirement already satisfied: annotated-types>=0.6.0 in c:\\users\\varsha gupta\\.conda\\envs\\pydantic\\lib\\site-packages (from pydantic>=2.7.0->pydantic-settings) (0.7.0)\n",
      "Requirement already satisfied: pydantic-core==2.23.4 in c:\\users\\varsha gupta\\.conda\\envs\\pydantic\\lib\\site-packages (from pydantic>=2.7.0->pydantic-settings) (2.23.4)\n",
      "Requirement already satisfied: typing-extensions>=4.12.2 in c:\\users\\varsha gupta\\.conda\\envs\\pydantic\\lib\\site-packages (from pydantic>=2.7.0->pydantic-settings) (4.12.2)\n",
      "Downloading pydantic_settings-2.6.1-py3-none-any.whl (28 kB)\n",
      "Using cached python_dotenv-1.0.1-py3-none-any.whl (19 kB)\n",
      "Installing collected packages: python-dotenv, pydantic-settings\n",
      "Successfully installed pydantic-settings-2.6.1 python-dotenv-1.0.1\n",
      "Note: you may need to restart the kernel to use updated packages.\n"
     ]
    }
   ],
   "source": [
    "%pip install pydantic-settings"
   ]
  },
  {
   "cell_type": "code",
   "execution_count": 1,
   "metadata": {},
   "outputs": [
    {
     "name": "stdout",
     "output_type": "stream",
     "text": [
      "{'auth_key': 'env_auth_key', 'api_key': 'env_test'}\n"
     ]
    }
   ],
   "source": [
    "import os\n",
    "from pydantic import Field\n",
    "from pydantic_settings import BaseSettings\n",
    "\n",
    "class Settings(BaseSettings):\n",
    "    auth_key: str = Field(...)\n",
    "    api_key: str = Field(alias='my_api_key')\n",
    "\n",
    "print(Settings().model_dump())    "
   ]
  },
  {
   "cell_type": "code",
   "execution_count": 2,
   "metadata": {},
   "outputs": [
    {
     "name": "stdout",
     "output_type": "stream",
     "text": [
      "{'service_name': 'default', 'auth_key': 'test_auth_key', 'api_key': 'test', 'url': 'https://mysuperurl.com'}\n"
     ]
    }
   ],
   "source": [
    "import os\n",
    "from pydantic import Field, AliasChoices\n",
    "from pydantic_settings import BaseSettings\n",
    "\n",
    "os.environ[\"AUTH_KEY\"] = \"test_auth_key\"\n",
    "os.environ[\"MY_API_KEY\"] = \"test\"\n",
    "os.environ[\"ENV2\"] = \"https://mysuperurl.com\"\n",
    "\n",
    "class Settings(BaseSettings):\n",
    "    service_name: str = Field(default=\"default\")\n",
    "    auth_key: str\n",
    "    api_key: str = Field(alias=\"my_api_key\")\n",
    "    url: str = Field(validation_alias=AliasChoices(\"env1\", \"env2\"))\n",
    "\n",
    "print(Settings().model_dump())\n"
   ]
  },
  {
   "cell_type": "code",
   "execution_count": 3,
   "metadata": {},
   "outputs": [
    {
     "name": "stdout",
     "output_type": "stream",
     "text": [
      "{'service_name': 'default', 'auth_key': 'test_auth_key', 'api_key': 'test', 'url': 'https://mysuperurl.com'}\n"
     ]
    }
   ],
   "source": [
    "import os\n",
    "from pydantic import Field\n",
    "from pydantic_settings import BaseSettings, SettingsConfigDict\n",
    "\n",
    "# Set environment variables with the prefix\n",
    "os.environ[\"PRODUCTION_AUTH_KEY\"] = \"test_auth_key\"\n",
    "os.environ[\"PRODUCTION_MY_API_KEY\"] = \"test\"\n",
    "os.environ[\"PRODUCTION_ENV2\"] = \"https://mysuperurl.com\"\n",
    "\n",
    "class Settings(BaseSettings):\n",
    "    model_config = SettingsConfigDict(env_prefix=\"production_\")\n",
    "\n",
    "    service_name: str = Field(default=\"default\")\n",
    "    auth_key: str\n",
    "    api_key: str = Field(alias=\"my_api_key\")\n",
    "    url: str = Field(validation_alias=AliasChoices(\"env1\", \"env2\"))\n",
    "\n",
    "print(Settings().model_dump())\n"
   ]
  },
  {
   "cell_type": "markdown",
   "metadata": {},
   "source": [
    "Working with .env file"
   ]
  },
  {
   "cell_type": "code",
   "execution_count": 5,
   "metadata": {},
   "outputs": [
    {
     "name": "stdout",
     "output_type": "stream",
     "text": [
      "{'service_name': 'default', 'auth_key': 'test_auth_key', 'api_key': 'test'}\n"
     ]
    }
   ],
   "source": [
    "from pydantic_settings import BaseSettings, SettingsConfigDict\n",
    "from pydantic import Field\n",
    "\n",
    "class Settings(BaseSettings):\n",
    "    model_config = SettingsConfigDict(env_file='.env', env_file_encoding='utf-8')\n",
    "\n",
    "    service_name: str = Field(default=\"default\")\n",
    "    auth_key: str\n",
    "    api_key: str = Field(alias='my_api_key')\n",
    "\n",
    "print(Settings().model_dump())\n"
   ]
  },
  {
   "cell_type": "code",
   "execution_count": 8,
   "metadata": {},
   "outputs": [
    {
     "name": "stdout",
     "output_type": "stream",
     "text": [
      "{'service_name': 'default', 'auth_key': 'test_auth_key', 'api_key': 'test'}\n"
     ]
    }
   ],
   "source": [
    "from pydantic_settings import BaseSettings, SettingsConfigDict\n",
    "from pydantic import Field\n",
    "\n",
    "class Settings(BaseSettings):\n",
    "    # model_config = SettingsConfigDict(env_file='.env', env_file_encoding='utf-8', extra=\"allow\")\n",
    "    model_config = SettingsConfigDict(env_file='.env', env_file_encoding='utf-8', extra=\"ignore\")\n",
    "\n",
    "\n",
    "    service_name: str = Field(default=\"default\")\n",
    "    auth_key: str\n",
    "    api_key: str = Field(alias='my_api_key')\n",
    "\n",
    "print(Settings().model_dump())\n"
   ]
  },
  {
   "cell_type": "code",
   "execution_count": null,
   "metadata": {},
   "outputs": [],
   "source": []
  },
  {
   "cell_type": "code",
   "execution_count": null,
   "metadata": {},
   "outputs": [],
   "source": []
  }
 ],
 "metadata": {
  "kernelspec": {
   "display_name": "pydantic",
   "language": "python",
   "name": "python3"
  },
  "language_info": {
   "codemirror_mode": {
    "name": "ipython",
    "version": 3
   },
   "file_extension": ".py",
   "mimetype": "text/x-python",
   "name": "python",
   "nbconvert_exporter": "python",
   "pygments_lexer": "ipython3",
   "version": "3.13.0"
  }
 },
 "nbformat": 4,
 "nbformat_minor": 2
}
